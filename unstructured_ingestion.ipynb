{
 "cells": [
  {
   "cell_type": "code",
   "execution_count": 2,
   "metadata": {},
   "outputs": [
    {
     "data": {
      "text/plain": [
       "True"
      ]
     },
     "execution_count": 2,
     "metadata": {},
     "output_type": "execute_result"
    }
   ],
   "source": [
    "import os\n",
    "from dotenv import load_dotenv\n",
    "\n",
    "load_dotenv()"
   ]
  },
  {
   "cell_type": "code",
   "execution_count": 3,
   "metadata": {},
   "outputs": [],
   "source": [
    "#Configs for local deployment\n",
    "from unstructured_ingest.v2.pipeline.pipeline import Pipeline\n",
    "from unstructured_ingest.v2.interfaces import ProcessorConfig\n",
    "from unstructured_ingest.v2.processes.connectors.local import (\n",
    "    LocalIndexerConfig,\n",
    "    LocalDownloaderConfig,\n",
    "    LocalConnectionConfig,\n",
    "    LocalUploaderConfig\n",
    ")\n",
    "from unstructured_ingest.v2.processes.partitioner import PartitionerConfig\n",
    "from unstructured_ingest.v2.processes.chunker import ChunkerConfig\n",
    "\n",
    "from unstructured.chunking.title import chunk_by_title"
   ]
  },
  {
   "cell_type": "code",
   "execution_count": 4,
   "metadata": {},
   "outputs": [],
   "source": [
    "from langchain_chroma import Chroma\n",
    "from langchain_openai import OpenAIEmbeddings\n",
    "\n",
    "import chromadb\n",
    "\n",
    "from uuid import uuid4\n",
    "from langchain.vectorstores.utils import filter_complex_metadata"
   ]
  },
  {
   "cell_type": "code",
   "execution_count": null,
   "metadata": {},
   "outputs": [],
   "source": [
    "directory_with_pdfs=\"images\"\n",
    "directory_with_results=\"output\"\n",
    "\n",
    "Pipeline.from_configs(\n",
    "    context=ProcessorConfig(),\n",
    "    indexer_config=LocalIndexerConfig(input_path=directory_with_pdfs),\n",
    "    downloader_config=LocalDownloaderConfig(),\n",
    "    source_connection_config=LocalConnectionConfig(),\n",
    "    partitioner_config=PartitionerConfig(\n",
    "        partition_by_api=True,\n",
    "        api_key=os.getenv(\"UNSTRUCTURED_API_KEY\"),\n",
    "        partition_endpoint=os.getenv(\"UNSTRUCTURED_API_URL\"),\n",
    "        strategy=\"hi_res\",\n",
    "        additional_partition_args={\n",
    "            \"split_pdf_page\": True,\n",
    "            \"split_pdf_concurrency_level\": 15,\n",
    "            },\n",
    "        ),\n",
    "    uploader_config=LocalUploaderConfig(output_dir=directory_with_results)\n",
    ").run()"
   ]
  },
  {
   "cell_type": "code",
   "execution_count": 1,
   "metadata": {},
   "outputs": [
    {
     "name": "stdout",
     "output_type": "stream",
     "text": [
      "Object `PartitionerConfig` not found.\n"
     ]
    }
   ],
   "source": [
    "PartitionerConfig??"
   ]
  },
  {
   "cell_type": "code",
   "execution_count": 5,
   "metadata": {},
   "outputs": [],
   "source": [
    "from unstructured.staging.base import elements_from_json\n",
    "\n",
    "def load_processed_files(directory_path):\n",
    "    elements = []\n",
    "    for filename in os.listdir(directory_path):\n",
    "        if filename.endswith('.json'):\n",
    "            file_path = os.path.join(directory_path, filename)\n",
    "            try:\n",
    "                elements.extend(elements_from_json(filename=file_path))\n",
    "            except IOError:\n",
    "                print(f\"Error: Could not read file {filename}.\")\n",
    "\n",
    "    return elements\n",
    "\n",
    "elements = load_processed_files(directory_with_results)"
   ]
  },
  {
   "cell_type": "code",
   "execution_count": 6,
   "metadata": {},
   "outputs": [],
   "source": [
    "elements_filtered = [el for el in elements if el.category != \"Header\"]"
   ]
  },
  {
   "cell_type": "code",
   "execution_count": 7,
   "metadata": {},
   "outputs": [],
   "source": [
    "chunks = chunk_by_title(elements_filtered)"
   ]
  },
  {
   "cell_type": "code",
   "execution_count": 8,
   "metadata": {},
   "outputs": [],
   "source": [
    "from langchain_community.vectorstores import Chroma\n",
    "from langchain_core.documents import Document\n",
    "from langchain_openai import OpenAIEmbeddings"
   ]
  },
  {
   "cell_type": "code",
   "execution_count": 9,
   "metadata": {},
   "outputs": [],
   "source": [
    "def filter_meta(meta:dict):\n",
    "    filtered_metadata = {}\n",
    "    for key, value in meta.items():\n",
    "        if isinstance(value, (str, int, float, bool)):\n",
    "            filtered_metadata[key] = value\n",
    "    return filtered_metadata"
   ]
  },
  {
   "cell_type": "code",
   "execution_count": 12,
   "metadata": {},
   "outputs": [],
   "source": [
    "documents = []\n",
    "for element in chunks:\n",
    "    metadata_im = element.metadata.to_dict()\n",
    "    metadata = filter_meta(metadata_im)\n",
    "    del metadata[\"orig_elements\"]\n",
    "    #metadata[\"source\"] = metadata[\"filename\"]\n",
    "    documents.append(Document(page_content=element.text, metadata=metadata))"
   ]
  },
  {
   "cell_type": "code",
   "execution_count": 14,
   "metadata": {},
   "outputs": [],
   "source": [
    "embeddings = OpenAIEmbeddings()"
   ]
  },
  {
   "cell_type": "code",
   "execution_count": 15,
   "metadata": {},
   "outputs": [],
   "source": [
    "vectorstore = Chroma.from_documents(documents, embeddings)"
   ]
  },
  {
   "cell_type": "code",
   "execution_count": 16,
   "metadata": {},
   "outputs": [
    {
     "data": {
      "text/plain": [
       "[Document(metadata={'filename': 'winter-sports.epub', 'filetype': 'application/epub', 'is_continuation': True}, page_content='in this excellent republic, mid-winter thaws occur.'),\n",
       " Document(metadata={'filename': 'winter-sports.epub', 'filetype': 'application/epub', 'is_continuation': True}, page_content='summer, when the sun has come to an understanding with the snow, a fine golf-course is found to reveal itself. But all winter long the sun blazes on Montana, while its altitude and the cold of its nights preserves its frozen mantle. Of the view I have already spoken: there is something to be said for a view in the intervals of falling-down, and in the meditation and quiescence which such falls sometimes entail.'),\n",
       " Document(metadata={'filename': 'winter-sports.epub', 'filetype': 'application/epub', 'is_continuation': True}, page_content='winter, on a still evening those evidences of life are dumb, and yet the silence itself is pregnant with vitality. At sunset the high tops burn in rose-coloured flame, and as the glory fades into the toneless velvet of the frosty sky, the stars in their wheeling are of a brilliance utterly unknown to lower altitudes, except perhaps where the desert lies fallow and dry beneath Egyptian skies, and no emanation from the earth dims the burning of these “patins of bright gold.” But that “quiring to'),\n",
       " Document(metadata={'filename': 'winter-sports.epub', 'filetype': 'application/epub', 'is_continuation': True}, page_content='continually taking place. They sit in the sun, when they are tired of skating, and see that though a torrid luminary beats down on the frozen surface, burning and browning the faces of their friends, the ice remains perfectly dry and unmelted; they trudge through snow, and find that they are not wet; they see the thermometer marking anything up or down to thirty degrees of frost, and go out coatless and very likely hatless, and are conscious only of an agreeable and bracing warmth; they go')]"
      ]
     },
     "execution_count": 16,
     "metadata": {},
     "output_type": "execute_result"
    }
   ],
   "source": [
    "vectorstore.similarity_search(query=\"winter\")"
   ]
  },
  {
   "cell_type": "code",
   "execution_count": 17,
   "metadata": {},
   "outputs": [],
   "source": [
    "retriever = vectorstore.as_retriever()"
   ]
  },
  {
   "cell_type": "code",
   "execution_count": 18,
   "metadata": {},
   "outputs": [
    {
     "data": {
      "text/plain": [
       "[Document(metadata={'filename': 'winter-sports.epub', 'filetype': 'application/epub'}, page_content='Now this arrangement of hog-score (usually called “the hog”), back score, sweeping score, “house” and crampit (or hack), scratched in the ice according to these directions, completes the construction of one end of the rink. At the other end a similar construction is made in alignment, the centre of the two houses being 39 yards from one another. Here is the rink ready for play, and the rest of the rules deal entirely with the game itself.'),\n",
       " Document(metadata={'filename': 'winter-sports.epub', 'filetype': 'application/epub'}, page_content='[Image unavailable.]\\n\\nICE HOCKEY\\n\\nFrom the Drawing by Fleming Williams'),\n",
       " Document(metadata={'filename': 'winter-sports.epub', 'filetype': 'application/epub', 'is_continuation': True}, page_content='icemen should ever be allowed on the rink. How amazed would be the pioneers of outdoor artificial rinks if they could see the huge and perfect surfaces now yearly prepared for the hordes of foreign visitors who flock to Switzerland. Of those pioneers John Addington Symonds was one, and in his charming essays he recounts how at Davos he and a few enthusiastic friends took exercise by incessantly working the handle of a pump that stood in the middle of a level field, until, I think, the pump'),\n",
       " Document(metadata={'filename': 'winter-sports.epub', 'filetype': 'application/epub'}, page_content='The most absorbed votary of quavering rockers must not mind an occasional violation of his frozen sanctuary by day as well as by night, for there are entertainments known as ice-gymkhanas that must from time to time be permitted to those more frivolous than he. In other words, he will come down to the rink on some fine morning with perhaps a new and illuminating theory that shall make all his difficulties with regard to rockers vanish like breath on a frosty morning, to find his ice desecrated')]"
      ]
     },
     "execution_count": 18,
     "metadata": {},
     "output_type": "execute_result"
    }
   ],
   "source": [
    "retriever.invoke(\"where is ice hocked played\")"
   ]
  }
 ],
 "metadata": {
  "kernelspec": {
   "display_name": "unstructured",
   "language": "python",
   "name": "python3"
  },
  "language_info": {
   "codemirror_mode": {
    "name": "ipython",
    "version": 3
   },
   "file_extension": ".py",
   "mimetype": "text/x-python",
   "name": "python",
   "nbconvert_exporter": "python",
   "pygments_lexer": "ipython3",
   "version": "3.12.3"
  }
 },
 "nbformat": 4,
 "nbformat_minor": 2
}
