{
 "cells": [
  {
   "cell_type": "code",
   "execution_count": 1,
   "metadata": {},
   "outputs": [],
   "source": [
    "import hashlib\n",
    "import sqlite3\n",
    "import os\n",
    "\n",
    "from pathlib import Path\n",
    "\n",
    "import pandas as pd\n",
    "from typing import List, Optional\n",
    "from sqlmodel import SQLModel, create_engine, Session, Field, select\n",
    "\n",
    "from typing import Optional\n",
    "\n",
    "from sqlite_db_schema import RAG_Create\n",
    "from database import engine"
   ]
  },
  {
   "cell_type": "code",
   "execution_count": 2,
   "metadata": {},
   "outputs": [],
   "source": [
    "\n",
    "def list_files_in_directory(directory: str) -> List[str]:\n",
    "    # Create a Path object from the directory\n",
    "    dir_path = Path(directory)\n",
    "    \n",
    "    # Check if the provided directory exists and is a directory\n",
    "    if not dir_path.is_dir():\n",
    "        raise ValueError(f\"The provided path '{directory}' is not a valid directory.\")\n",
    "\n",
    "    # List all files in the directory (non-recursive)\n",
    "    file_list = [str(file.name) for file in dir_path.iterdir() if file.is_file()]\n",
    "\n",
    "    return file_list\n",
    "\n",
    "# Example usage:\n",
    "# files = list_files_in_directory(\"/path/to/your/directory\")\n",
    "# print(files)"
   ]
  },
  {
   "cell_type": "code",
   "execution_count": 3,
   "metadata": {},
   "outputs": [],
   "source": [
    "# Function to calculate file hash\n",
    "def file_hash(filename):\n",
    "    hash_sha256 = hashlib.sha256()\n",
    "\n",
    "    with open(filename, \"rb\") as file:\n",
    "        for chunk in iter(lambda: file.read(4096), b\"\"):\n",
    "            hash_sha256.update(chunk)\n",
    "\n",
    "    return hash_sha256.hexdigest()\n",
    "\n",
    "# Function to add hash to database\n",
    "def add_hash_to_db(filename):\n",
    "    # Calculate the file hash\n",
    "    hash_value = file_hash(filename)\n",
    "\n",
    "    # Create database engine and session\n",
    "    #engine = create_db_and_table()\n",
    "    \n",
    "    with Session(engine) as session:\n",
    "        # Check if the file already exists in the database\n",
    "        statement = select(RAG_Create).where(RAG_Create.filename == filename)\n",
    "        result = session.exec(statement).first()\n",
    "        \n",
    "        if result:\n",
    "            print(f\"File '{filename}' is already in the database.\")\n",
    "            return result.hash\n",
    "\n",
    "        # Create a new FileHash record\n",
    "        new_file_hash = RAG_Create(filename=filename, hash=hash_value)\n",
    "        \n",
    "        # Add and commit to the database\n",
    "        session.add(new_file_hash)\n",
    "        session.commit()\n",
    "\n",
    "        print(f\"File '{filename}' added to the database with hash '{hash_value}'.\")\n",
    "        return hash_value\n",
    "\n",
    "# Example usage:\n",
    "# hash_value = add_hash_to_db(\"example.txt\")\n",
    "# print(f\"The SHA-256 hash of the file is: {hash_value}\")"
   ]
  },
  {
   "cell_type": "code",
   "execution_count": 4,
   "metadata": {},
   "outputs": [],
   "source": [
    "list_files = list_files_in_directory(Path(\"images\"))"
   ]
  },
  {
   "cell_type": "code",
   "execution_count": 6,
   "metadata": {},
   "outputs": [],
   "source": [
    "from pathlib import Path\n",
    "from typing import List\n",
    "\n",
    "def list_file_objects_in_directory(directory: str) -> List[Path]:\n",
    "    # Create a Path object from the directory\n",
    "    dir_path = Path(directory)\n",
    "    \n",
    "    # Check if the provided directory exists and is a directory\n",
    "    if not dir_path.is_dir():\n",
    "        raise ValueError(f\"The provided path '{directory}' is not a valid directory.\")\n",
    "\n",
    "    # List all file objects in the directory (non-recursive)\n",
    "    file_objects = [file for file in dir_path.iterdir() if file.is_file()]\n",
    "\n",
    "    return file_objects"
   ]
  },
  {
   "cell_type": "code",
   "execution_count": null,
   "metadata": {},
   "outputs": [],
   "source": []
  },
  {
   "cell_type": "code",
   "execution_count": 5,
   "metadata": {},
   "outputs": [
    {
     "ename": "FileNotFoundError",
     "evalue": "[Errno 2] No such file or directory: 'el_nino.html'",
     "output_type": "error",
     "traceback": [
      "\u001b[0;31m---------------------------------------------------------------------------\u001b[0m",
      "\u001b[0;31mFileNotFoundError\u001b[0m                         Traceback (most recent call last)",
      "Cell \u001b[0;32mIn[5], line 2\u001b[0m\n\u001b[1;32m      1\u001b[0m \u001b[38;5;28;01mfor\u001b[39;00m file \u001b[38;5;129;01min\u001b[39;00m list_files:\n\u001b[0;32m----> 2\u001b[0m     \u001b[43madd_hash_to_db\u001b[49m\u001b[43m(\u001b[49m\u001b[43mfile\u001b[49m\u001b[43m)\u001b[49m\n",
      "Cell \u001b[0;32mIn[3], line 14\u001b[0m, in \u001b[0;36madd_hash_to_db\u001b[0;34m(filename)\u001b[0m\n\u001b[1;32m     12\u001b[0m \u001b[38;5;28;01mdef\u001b[39;00m \u001b[38;5;21madd_hash_to_db\u001b[39m(filename):\n\u001b[1;32m     13\u001b[0m     \u001b[38;5;66;03m# Calculate the file hash\u001b[39;00m\n\u001b[0;32m---> 14\u001b[0m     hash_value \u001b[38;5;241m=\u001b[39m \u001b[43mfile_hash\u001b[49m\u001b[43m(\u001b[49m\u001b[43mfilename\u001b[49m\u001b[43m)\u001b[49m\n\u001b[1;32m     16\u001b[0m     \u001b[38;5;66;03m# Create database engine and session\u001b[39;00m\n\u001b[1;32m     17\u001b[0m     \u001b[38;5;66;03m#engine = create_db_and_table()\u001b[39;00m\n\u001b[1;32m     19\u001b[0m     \u001b[38;5;28;01mwith\u001b[39;00m Session(engine) \u001b[38;5;28;01mas\u001b[39;00m session:\n\u001b[1;32m     20\u001b[0m         \u001b[38;5;66;03m# Check if the file already exists in the database\u001b[39;00m\n",
      "Cell \u001b[0;32mIn[3], line 5\u001b[0m, in \u001b[0;36mfile_hash\u001b[0;34m(filename)\u001b[0m\n\u001b[1;32m      2\u001b[0m \u001b[38;5;28;01mdef\u001b[39;00m \u001b[38;5;21mfile_hash\u001b[39m(filename):\n\u001b[1;32m      3\u001b[0m     hash_sha256 \u001b[38;5;241m=\u001b[39m hashlib\u001b[38;5;241m.\u001b[39msha256()\n\u001b[0;32m----> 5\u001b[0m     \u001b[38;5;28;01mwith\u001b[39;00m \u001b[38;5;28;43mopen\u001b[39;49m\u001b[43m(\u001b[49m\u001b[43mfilename\u001b[49m\u001b[43m,\u001b[49m\u001b[43m \u001b[49m\u001b[38;5;124;43m\"\u001b[39;49m\u001b[38;5;124;43mrb\u001b[39;49m\u001b[38;5;124;43m\"\u001b[39;49m\u001b[43m)\u001b[49m \u001b[38;5;28;01mas\u001b[39;00m file:\n\u001b[1;32m      6\u001b[0m         \u001b[38;5;28;01mfor\u001b[39;00m chunk \u001b[38;5;129;01min\u001b[39;00m \u001b[38;5;28miter\u001b[39m(\u001b[38;5;28;01mlambda\u001b[39;00m: file\u001b[38;5;241m.\u001b[39mread(\u001b[38;5;241m4096\u001b[39m), \u001b[38;5;124mb\u001b[39m\u001b[38;5;124m\"\u001b[39m\u001b[38;5;124m\"\u001b[39m):\n\u001b[1;32m      7\u001b[0m             hash_sha256\u001b[38;5;241m.\u001b[39mupdate(chunk)\n",
      "File \u001b[0;32m~/Documents/Projects/Unstructured/unstructured/lib/python3.12/site-packages/IPython/core/interactiveshell.py:324\u001b[0m, in \u001b[0;36m_modified_open\u001b[0;34m(file, *args, **kwargs)\u001b[0m\n\u001b[1;32m    317\u001b[0m \u001b[38;5;28;01mif\u001b[39;00m file \u001b[38;5;129;01min\u001b[39;00m {\u001b[38;5;241m0\u001b[39m, \u001b[38;5;241m1\u001b[39m, \u001b[38;5;241m2\u001b[39m}:\n\u001b[1;32m    318\u001b[0m     \u001b[38;5;28;01mraise\u001b[39;00m \u001b[38;5;167;01mValueError\u001b[39;00m(\n\u001b[1;32m    319\u001b[0m         \u001b[38;5;124mf\u001b[39m\u001b[38;5;124m\"\u001b[39m\u001b[38;5;124mIPython won\u001b[39m\u001b[38;5;124m'\u001b[39m\u001b[38;5;124mt let you open fd=\u001b[39m\u001b[38;5;132;01m{\u001b[39;00mfile\u001b[38;5;132;01m}\u001b[39;00m\u001b[38;5;124m by default \u001b[39m\u001b[38;5;124m\"\u001b[39m\n\u001b[1;32m    320\u001b[0m         \u001b[38;5;124m\"\u001b[39m\u001b[38;5;124mas it is likely to crash IPython. If you know what you are doing, \u001b[39m\u001b[38;5;124m\"\u001b[39m\n\u001b[1;32m    321\u001b[0m         \u001b[38;5;124m\"\u001b[39m\u001b[38;5;124myou can use builtins\u001b[39m\u001b[38;5;124m'\u001b[39m\u001b[38;5;124m open.\u001b[39m\u001b[38;5;124m\"\u001b[39m\n\u001b[1;32m    322\u001b[0m     )\n\u001b[0;32m--> 324\u001b[0m \u001b[38;5;28;01mreturn\u001b[39;00m \u001b[43mio_open\u001b[49m\u001b[43m(\u001b[49m\u001b[43mfile\u001b[49m\u001b[43m,\u001b[49m\u001b[43m \u001b[49m\u001b[38;5;241;43m*\u001b[39;49m\u001b[43margs\u001b[49m\u001b[43m,\u001b[49m\u001b[43m \u001b[49m\u001b[38;5;241;43m*\u001b[39;49m\u001b[38;5;241;43m*\u001b[39;49m\u001b[43mkwargs\u001b[49m\u001b[43m)\u001b[49m\n",
      "\u001b[0;31mFileNotFoundError\u001b[0m: [Errno 2] No such file or directory: 'el_nino.html'"
     ]
    }
   ],
   "source": [
    "for file in list_files:\n",
    "    add_hash_to_db(file)"
   ]
  },
  {
   "cell_type": "code",
   "execution_count": null,
   "metadata": {},
   "outputs": [],
   "source": []
  },
  {
   "cell_type": "code",
   "execution_count": null,
   "metadata": {},
   "outputs": [],
   "source": []
  },
  {
   "cell_type": "code",
   "execution_count": null,
   "metadata": {},
   "outputs": [],
   "source": [
    "import hashlib\n",
    "\n",
    "def file_hash(filename):\n",
    "    # Create a new sha256 hash object\n",
    "    hash_sha256 = hashlib.sha256()\n",
    "\n",
    "    # Open the file in binary mode and read chunks\n",
    "    with open(filename, \"rb\") as file:\n",
    "        for chunk in iter(lambda: file.read(4096), b\"\"):\n",
    "            hash_sha256.update(chunk)\n",
    "\n",
    "    # Return the hexadecimal digest of the hash\n",
    "    return hash_sha256.hexdigest()\n",
    "\n",
    "# Example usage:\n",
    "# hash_value = file_hash(\"example.txt\")\n",
    "# print(f\"The SHA-256 hash of the file is: {hash_value}\")"
   ]
  },
  {
   "cell_type": "code",
   "execution_count": null,
   "metadata": {},
   "outputs": [],
   "source": [
    "file_hash(\"hash_file.ipynb\")"
   ]
  },
  {
   "cell_type": "code",
   "execution_count": null,
   "metadata": {},
   "outputs": [],
   "source": []
  },
  {
   "cell_type": "code",
   "execution_count": null,
   "metadata": {},
   "outputs": [],
   "source": [
    "\n",
    "def generate_file_hash(file_obj, hash_algo=\"sha256\", chunk_size=8192):\n",
    "    \"\"\"\n",
    "    Generate a unique hash for a file based on its content.\n",
    "    \n",
    "    Parameters:\n",
    "    - file_obj: File object opened in binary mode.\n",
    "    - hash_algo: Hashing algorithm to use (default is 'sha256').\n",
    "    - chunk_size: Size of the chunks to read from the file at a time (default is 8192 bytes).\n",
    "    \n",
    "    Returns:\n",
    "    - A string representing the unique hash of the file content.\n",
    "    \"\"\"\n",
    "    # Initialize the hash object with the chosen algorithm\n",
    "    hash_func = hashlib.new(hash_algo)\n",
    "    \n",
    "    # Read the file in chunks to avoid using too much memory with large files\n",
    "    for chunk in iter(lambda: file_obj.read(chunk_size), b\"\"):\n",
    "        hash_func.update(chunk)\n",
    "    \n",
    "    #Create a db session\n",
    "    session = Session(engine)\n",
    "    hash = hash_func.hexdigest()\n",
    "    data_base_entry = RAG_Create(filename=\"text.pdf\",hash=hash )\n",
    "\n",
    "    session.add(data_base_entry)\n",
    "    \n",
    "    # Return the hexadecimal representation of the hash\n",
    "    \n",
    "    \n",
    "    #return hash_func.hexdigest()\n"
   ]
  },
  {
   "cell_type": "code",
   "execution_count": null,
   "metadata": {},
   "outputs": [],
   "source": [
    "generate_file_hash"
   ]
  },
  {
   "cell_type": "code",
   "execution_count": null,
   "metadata": {},
   "outputs": [],
   "source": [
    "# Example usage:\n",
    "with open(\"./images/CoT.pdf\", \"rb\") as f:\n",
    "    file_hash = generate_file_hash(f)\n",
    "    print(f\"The file's unique hash is: {file_hash}\")"
   ]
  },
  {
   "cell_type": "code",
   "execution_count": null,
   "metadata": {},
   "outputs": [],
   "source": [
    "cursor"
   ]
  }
 ],
 "metadata": {
  "kernelspec": {
   "display_name": "unstructured",
   "language": "python",
   "name": "python3"
  },
  "language_info": {
   "codemirror_mode": {
    "name": "ipython",
    "version": 3
   },
   "file_extension": ".py",
   "mimetype": "text/x-python",
   "name": "python",
   "nbconvert_exporter": "python",
   "pygments_lexer": "ipython3",
   "version": "3.12.3"
  }
 },
 "nbformat": 4,
 "nbformat_minor": 2
}
