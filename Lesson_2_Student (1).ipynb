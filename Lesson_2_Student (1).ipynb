{
 "cells": [
  {
   "cell_type": "markdown",
   "id": "6ef57eb5-2295-44fb-81d9-4351769e8f4e",
   "metadata": {},
   "source": [
    "# L2: Normalizing the Content"
   ]
  },
  {
   "cell_type": "code",
   "execution_count": 1,
   "id": "4ec2430d-cac6-406e-a007-123dc97df0e2",
   "metadata": {},
   "outputs": [],
   "source": [
    "# Warning control\n",
    "import warnings\n",
    "warnings.filterwarnings('ignore')\n",
    "import os"
   ]
  },
  {
   "cell_type": "code",
   "execution_count": 2,
   "id": "a1fb8a20",
   "metadata": {},
   "outputs": [],
   "source": [
    "from dotenv import load_dotenv"
   ]
  },
  {
   "cell_type": "code",
   "execution_count": 3,
   "id": "591f213d-f54b-4c91-ae73-bcd2c7a4359e",
   "metadata": {},
   "outputs": [],
   "source": [
    "from IPython.display import JSON\n",
    "\n",
    "import json\n",
    "\n",
    "from unstructured_client import UnstructuredClient\n",
    "from unstructured_client.models import shared\n",
    "from unstructured_client.models.errors import SDKError\n",
    "\n",
    "from unstructured.partition.html import partition_html\n",
    "from unstructured.staging.base import dict_to_elements, elements_to_json"
   ]
  },
  {
   "cell_type": "code",
   "execution_count": 4,
   "id": "b97be736-2166-400c-9d17-6dcb4034c9eb",
   "metadata": {},
   "outputs": [],
   "source": [
    "\n",
    "\n",
    "\n",
    "\n",
    "s = UnstructuredClient(\n",
    "    api_key_auth=os.getenv(\"UNSTRUCTURED_API_KEY\"),\n",
    "    server_url = os.getenv(\"UNSTRUCTURED_API_URL\")\n",
    "    \n",
    ")"
   ]
  },
  {
   "cell_type": "markdown",
   "id": "be8a0cbd-1545-4dde-ab60-84dcdaa4a51a",
   "metadata": {},
   "source": [
    "<p style=\"background-color:#fff6ff; padding:15px; border-width:3px; border-color:#efe6ef; border-style:solid; border-radius:6px\"> 💻 &nbsp; <b>Access Utils File and Helper Functions:</b> To access helper functions and other related files for this notebook, 1) click on the <em>\"View\"</em> option on the top menu of the notebook and then 2) click on <em>\"File Browser\"</em>. For more help, please see the <em>\"Appendix - Tips and Help\"</em> Lesson.</p>\n"
   ]
  },
  {
   "cell_type": "markdown",
   "id": "ee01e76f-3773-4611-9ad8-5f990ab23eef",
   "metadata": {},
   "source": [
    "## Example Document: Medium Blog HTML Page"
   ]
  },
  {
   "cell_type": "code",
   "execution_count": null,
   "id": "8753e8a4-859c-41eb-8b5e-101a30ed5b2d",
   "metadata": {},
   "outputs": [],
   "source": [
    "from IPython.display import Image\n",
    "Image(filename=\"images/HTML_demo.png\", height=600, width=600)"
   ]
  },
  {
   "cell_type": "code",
   "execution_count": null,
   "id": "0265c17e-d9db-4877-a804-74d94596a72e",
   "metadata": {},
   "outputs": [],
   "source": [
    "filename = \"images/medium_blog.html\"\n",
    "elements = partition_html(filename=filename)"
   ]
  },
  {
   "cell_type": "code",
   "execution_count": null,
   "id": "68f55cc9-0d04-4260-a617-9f3ab0c6951f",
   "metadata": {},
   "outputs": [],
   "source": [
    "element_dict = [el.to_dict() for el in elements]\n",
    "example_output = json.dumps(element_dict[11:15], indent=2)\n",
    "print(example_output)"
   ]
  },
  {
   "cell_type": "code",
   "execution_count": null,
   "id": "41aa4434-7ff6-45c5-bf7d-ef870358e4bb",
   "metadata": {},
   "outputs": [],
   "source": [
    "from IPython.core.display import JSON\n",
    "JSON(example_output)"
   ]
  },
  {
   "cell_type": "code",
   "execution_count": null,
   "id": "e978efef",
   "metadata": {},
   "outputs": [],
   "source": [
    "JSON(json.dumps(element_dict[:], indent=2))"
   ]
  },
  {
   "cell_type": "markdown",
   "id": "5e571077-9c60-499c-9668-c0e350148ce8",
   "metadata": {},
   "source": [
    "## Example Doc: MSFT PowerPoint on OpenAI"
   ]
  },
  {
   "cell_type": "code",
   "execution_count": null,
   "id": "36692869-ceeb-4eee-88bf-bdbebb198c70",
   "metadata": {},
   "outputs": [],
   "source": [
    "Image(filename=\"images/pptx_slide.png\", height=600, width=600) "
   ]
  },
  {
   "cell_type": "markdown",
   "id": "b5ecce31-081c-4e51-89ae-06cc8d9eaf2d",
   "metadata": {},
   "source": [
    "## Example Document: PDF on Chain-of-Thought"
   ]
  },
  {
   "cell_type": "code",
   "execution_count": 5,
   "id": "037167ed-21bf-4af3-84a4-21f4b88a0b1c",
   "metadata": {},
   "outputs": [
    {
     "ename": "NameError",
     "evalue": "name 'Image' is not defined",
     "output_type": "error",
     "traceback": [
      "\u001b[0;31m---------------------------------------------------------------------------\u001b[0m",
      "\u001b[0;31mNameError\u001b[0m                                 Traceback (most recent call last)",
      "Cell \u001b[0;32mIn[5], line 1\u001b[0m\n\u001b[0;32m----> 1\u001b[0m \u001b[43mImage\u001b[49m(filename\u001b[38;5;241m=\u001b[39m\u001b[38;5;124m\"\u001b[39m\u001b[38;5;124mimages/cot_paper.png\u001b[39m\u001b[38;5;124m\"\u001b[39m, height\u001b[38;5;241m=\u001b[39m\u001b[38;5;241m600\u001b[39m, width\u001b[38;5;241m=\u001b[39m\u001b[38;5;241m600\u001b[39m) \n",
      "\u001b[0;31mNameError\u001b[0m: name 'Image' is not defined"
     ]
    }
   ],
   "source": [
    "Image(filename=\"images/cot_paper.png\", height=600, width=600) "
   ]
  },
  {
   "cell_type": "code",
   "execution_count": 6,
   "id": "dcab4d73-f062-47ff-bc43-43b50753be6d",
   "metadata": {},
   "outputs": [
    {
     "name": "stderr",
     "output_type": "stream",
     "text": [
      "INFO: Preparing to split document for partition.\n",
      "INFO: Starting page number set to 1\n",
      "INFO: Allow failed set to 0\n",
      "INFO: Concurrency level set to 5\n",
      "INFO: Splitting pages 1 to 1 (1 total)\n",
      "INFO: Determined optimal split size of 2 pages.\n",
      "INFO: Document has too few pages (1) to be split efficiently. Partitioning without split.\n",
      "INFO: Successfully partitioned the document.\n"
     ]
    },
    {
     "name": "stdout",
     "output_type": "stream",
     "text": [
      "[\n",
      "  {\n",
      "    \"type\": \"Title\",\n",
      "    \"element_id\": \"826446fa7830f0352c88808f40b0cc9b\",\n",
      "    \"text\": \"B All Experimental Results\",\n",
      "    \"metadata\": {\n",
      "      \"filetype\": \"application/pdf\",\n",
      "      \"languages\": [\n",
      "        \"eng\"\n",
      "      ],\n",
      "      \"page_number\": 1,\n",
      "      \"filename\": \"CoT.pdf\"\n",
      "    }\n",
      "  },\n",
      "  {\n",
      "    \"type\": \"NarrativeText\",\n",
      "    \"element_id\": \"055f2fa97fbdee35766495a3452ebd9d\",\n",
      "    \"text\": \"This section contains tables for experimental results for varying models and model sizes, on all benchmarks, for standard prompting vs. chain-of-thought prompting.\",\n",
      "    \"metadata\": {\n",
      "      \"filetype\": \"application/pdf\",\n",
      "      \"languages\": [\n",
      "        \"eng\"\n",
      "      ],\n",
      "      \"page_number\": 1,\n",
      "      \"parent_id\": \"826446fa7830f0352c88808f40b0cc9b\",\n",
      "      \"filename\": \"CoT.pdf\"\n",
      "    }\n",
      "  },\n",
      "  {\n",
      "    \"type\": \"NarrativeText\",\n",
      "    \"element_id\": \"9bf5af5255b80aace01b2da84ea86531\",\n",
      "    \"text\": \"For the arithmetic reasoning benchmarks, some chains of thought (along with the equations produced) were correct, except the model performed an arithmetic operation incorrectly. A similar observation was made in Cobbe et al. (2021). Hence, we can further add a Python program as an external calculator (using the Python eval function) to all the equations in the generated chain of thought. When there are multiple equations in a chain of thought, we propagate the external calculator results from one equation to the following equations via string matching. As shown in Table 1, we see that adding a calculator signi\\ufb01cantly boosts performance of chain-of-thought prompting on most tasks.\",\n",
      "    \"metadata\": {\n",
      "      \"filetype\": \"application/pdf\",\n",
      "      \"languages\": [\n",
      "        \"eng\"\n",
      "      ],\n",
      "      \"page_number\": 1,\n",
      "      \"parent_id\": \"826446fa7830f0352c88808f40b0cc9b\",\n",
      "      \"filename\": \"CoT.pdf\"\n",
      "    }\n",
      "  }\n",
      "]\n"
     ]
    }
   ],
   "source": [
    "filename = \"images/CoT.pdf\"\n",
    "with open(filename, \"rb\") as f:\n",
    "    files=shared.Files(\n",
    "        content=f.read(), \n",
    "        file_name=filename,\n",
    "    )\n",
    "\n",
    "req = shared.PartitionParameters(\n",
    "    files=files,\n",
    "    strategy='hi_res',\n",
    "    pdf_infer_table_structure=True,\n",
    "    languages=[\"eng\"],\n",
    ")\n",
    "try:\n",
    "    resp = s.general.partition(req)\n",
    "    print(json.dumps(resp.elements[:3], indent=2))\n",
    "except SDKError as e:\n",
    "    print(e)"
   ]
  },
  {
   "cell_type": "code",
   "execution_count": 13,
   "id": "4c526b96",
   "metadata": {},
   "outputs": [
    {
     "data": {
      "text/plain": [
       "[{'type': 'NarrativeText',\n",
       "  'element_id': '055f2fa97fbdee35766495a3452ebd9d',\n",
       "  'text': 'This section contains tables for experimental results for varying models and model sizes, on all benchmarks, for standard prompting vs. chain-of-thought prompting.',\n",
       "  'metadata': {'filetype': 'application/pdf',\n",
       "   'languages': ['eng'],\n",
       "   'page_number': 1,\n",
       "   'parent_id': '826446fa7830f0352c88808f40b0cc9b',\n",
       "   'filename': 'CoT.pdf'}},\n",
       " {'type': 'NarrativeText',\n",
       "  'element_id': '9bf5af5255b80aace01b2da84ea86531',\n",
       "  'text': 'For the arithmetic reasoning benchmarks, some chains of thought (along with the equations produced) were correct, except the model performed an arithmetic operation incorrectly. A similar observation was made in Cobbe et al. (2021). Hence, we can further add a Python program as an external calculator (using the Python eval function) to all the equations in the generated chain of thought. When there are multiple equations in a chain of thought, we propagate the external calculator results from one equation to the following equations via string matching. As shown in Table 1, we see that adding a calculator signiﬁcantly boosts performance of chain-of-thought prompting on most tasks.',\n",
       "  'metadata': {'filetype': 'application/pdf',\n",
       "   'languages': ['eng'],\n",
       "   'page_number': 1,\n",
       "   'parent_id': '826446fa7830f0352c88808f40b0cc9b',\n",
       "   'filename': 'CoT.pdf'}},\n",
       " {'type': 'NarrativeText',\n",
       "  'element_id': '46381dc72867b437cb990fc7734840ee',\n",
       "  'text': 'Table 1: Chain of thought prompting outperforms standard prompting for various large language models on ﬁve arithmetic reasoning benchmarks. All metrics are accuracy (%). Ext. calc.: post-hoc external calculator for arithmetic computations only. Prior best numbers are from the following. a: Cobbe et al. (2021). b & e: Pi et al. (2022), c: Lan et al. (2021), d: Pi˛ekos et al. (2021).',\n",
       "  'metadata': {'filetype': 'application/pdf',\n",
       "   'languages': ['eng'],\n",
       "   'page_number': 1,\n",
       "   'parent_id': '826446fa7830f0352c88808f40b0cc9b',\n",
       "   'filename': 'CoT.pdf'}}]"
      ]
     },
     "execution_count": 13,
     "metadata": {},
     "output_type": "execute_result"
    }
   ],
   "source": [
    "[x for x in resp.elements if x['type'] == 'NarrativeText']"
   ]
  },
  {
   "cell_type": "code",
   "execution_count": 15,
   "id": "0fd0a784",
   "metadata": {},
   "outputs": [
    {
     "name": "stderr",
     "output_type": "stream",
     "text": [
      "INFO: Anonymized telemetry enabled. See                     https://docs.trychroma.com/telemetry for more information.\n"
     ]
    },
    {
     "data": {
      "text/plain": [
       "True"
      ]
     },
     "execution_count": 15,
     "metadata": {},
     "output_type": "execute_result"
    }
   ],
   "source": [
    "import chromadb\n",
    "\n",
    "client = chromadb.PersistentClient(path=\"chroma_tmp\", settings=chromadb.Settings(allow_reset=True))\n",
    "client.reset()"
   ]
  },
  {
   "cell_type": "code",
   "execution_count": 16,
   "id": "a62f05d7",
   "metadata": {},
   "outputs": [],
   "source": [
    "#Set the parameters for chroma\n",
    "collection = client.create_collection(\n",
    "    name=\"winter_sports\",\n",
    "    metadata={\"hnsw:space\": \"cosine\"}\n",
    ")"
   ]
  },
  {
   "cell_type": "code",
   "execution_count": 18,
   "id": "fb75d0bd",
   "metadata": {},
   "outputs": [
    {
     "name": "stderr",
     "output_type": "stream",
     "text": [
      "INFO: HTTP Request: GET https://chroma-onnx-models.s3.amazonaws.com/all-MiniLM-L6-v2/onnx.tar.gz \"HTTP/1.1 200 OK\"\n",
      "/Users/marcushausch/.cache/chroma/onnx_models/all-MiniLM-L6-v2/onnx.tar.gz: 100%|██████████| 79.3M/79.3M [00:10<00:00, 7.88MiB/s]\n"
     ]
    }
   ],
   "source": [
    "for element in resp.elements:\n",
    "    parent_id = element[\"metadata\"].get(\"parent_id\")\n",
    "    collection.add(\n",
    "        documents=[element[\"text\"]],\n",
    "        ids=[element[\"element_id\"]],\n",
    "    \n",
    "    )"
   ]
  },
  {
   "cell_type": "code",
   "execution_count": 19,
   "id": "4343cfaf",
   "metadata": {},
   "outputs": [
    {
     "data": {
      "text/plain": [
       "6"
      ]
     },
     "execution_count": 19,
     "metadata": {},
     "output_type": "execute_result"
    }
   ],
   "source": [
    "collection.count()"
   ]
  }
 ],
 "metadata": {
  "kernelspec": {
   "display_name": "Python 3 (ipykernel)",
   "language": "python",
   "name": "python3"
  },
  "language_info": {
   "codemirror_mode": {
    "name": "ipython",
    "version": 3
   },
   "file_extension": ".py",
   "mimetype": "text/x-python",
   "name": "python",
   "nbconvert_exporter": "python",
   "pygments_lexer": "ipython3",
   "version": "3.12.3"
  }
 },
 "nbformat": 4,
 "nbformat_minor": 5
}
